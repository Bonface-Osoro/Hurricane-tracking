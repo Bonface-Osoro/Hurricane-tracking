{
 "cells": [
  {
   "cell_type": "markdown",
   "metadata": {},
   "source": [
    "#### Calculate the maximum windspeed "
   ]
  },
  {
   "cell_type": "code",
   "execution_count": 12,
   "metadata": {
    "collapsed": false
   },
   "outputs": [],
   "source": [
    "import pandas as pd\n",
    "df=pd.read_excel('Irma.xlsx')                           # Read the data from the excel\n",
    "windspeed=df.loc[:,'Maximum sustained wind (in knots)'] # Select the maximum speed column for all rows\n",
    "maxspeed=max(windspeed)                                 # Create a maximum windspeed variable\n"
   ]
  },
  {
   "cell_type": "markdown",
   "metadata": {},
   "source": [
    "#### Use of conditional statement to categorize the hrurricane using maximum windspeed value "
   ]
  },
  {
   "cell_type": "code",
   "execution_count": 13,
   "metadata": {
    "collapsed": false
   },
   "outputs": [
    {
     "name": "stdout",
     "output_type": "stream",
     "text": [
      "Category 5\n"
     ]
    }
   ],
   "source": [
    "if (maxspeed>=64 and maxspeed<83):\n",
    "    print('Category 1')\n",
    "elif(maxspeed>82 and maxspeed<96):\n",
    "    print('Category 2')\n",
    "elif(maxspeed>95 and maxspeed<113):\n",
    "    print('Category 3')\n",
    "elif(maxspeed>112 and maxspeed<137):\n",
    "    print('Category 4')\n",
    "elif(maxspeed>136):\n",
    "    print('Category 5')\n",
    "else:\n",
    "    print('Windspeed is too low to categorize')"
   ]
  }
 ],
 "metadata": {
  "kernelspec": {
   "display_name": "Python 3",
   "language": "python",
   "name": "python3"
  },
  "language_info": {
   "codemirror_mode": {
    "name": "ipython",
    "version": 3
   },
   "file_extension": ".py",
   "mimetype": "text/x-python",
   "name": "python",
   "nbconvert_exporter": "python",
   "pygments_lexer": "ipython3",
   "version": "3.6.0"
  }
 },
 "nbformat": 4,
 "nbformat_minor": 2
}
