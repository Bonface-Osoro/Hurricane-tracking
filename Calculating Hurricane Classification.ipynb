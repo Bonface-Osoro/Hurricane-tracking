{
 "cells": [
  {
   "cell_type": "markdown",
   "metadata": {},
   "source": [
    "import pandas and numpy and read in the excel "
   ]
  },
  {
   "cell_type": "code",
   "execution_count": 1,
   "metadata": {
    "collapsed": true
   },
   "outputs": [],
   "source": [
    "import pandas as pd\n",
    "df=pd.read_excel('Irma.xlsx')                           # Read the data from the excel\n"
   ]
  },
  {
   "cell_type": "markdown",
   "metadata": {},
   "source": [
    "we'd like to automate establishing the largest sustained windspeed of irma, and categorise the hurricane on the basis of that \n",
    "using python.\n",
    "first we'll get the maximum sustained windspeed in knots\n",
    "we want to extract the column for the windspeed, the result can be stored for reference later"
   ]
  },
  {
   "cell_type": "code",
   "execution_count": 2,
   "metadata": {
    "collapsed": true
   },
   "outputs": [],
   "source": [
    "windspeed=df.loc[:,'Maximum sustained wind (in knots)'] # Select the maximum speed column for all rows\n"
   ]
  },
  {
   "cell_type": "markdown",
   "metadata": {},
   "source": [
    "now we want to find the max, numpy has a function for this, so we can use that rather than writing\n",
    "an algorithm which iterates through each value and stores it if it's bigger than all the previous values"
   ]
  },
  {
   "cell_type": "code",
   "execution_count": 3,
   "metadata": {
    "collapsed": true
   },
   "outputs": [],
   "source": [
    "maxspeed=max(windspeed)                                 # Create a maximum windspeed variable"
   ]
  },
  {
   "cell_type": "markdown",
   "metadata": {},
   "source": [
    "now we want to check which category this falls into\n",
    "recall \n",
    "category min\tmax\n",
    "1\t     64\t    82\n",
    "2\t     83\t    95\n",
    "3\t     96\t    112\n",
    "4\t     113\t136\n",
    "5\t     137\tand above\n",
    "so this is an example of a condition, write and if elif condition to print which category irma belongs to "
   ]
  },
  {
   "cell_type": "code",
   "execution_count": 4,
   "metadata": {
    "collapsed": false
   },
   "outputs": [
    {
     "name": "stdout",
     "output_type": "stream",
     "text": [
      "Category 5\n"
     ]
    }
   ],
   "source": [
    "if (maxspeed>=64 and maxspeed<83):\n",
    "    print('Category 1')\n",
    "elif(maxspeed>82 and maxspeed<96):\n",
    "    print('Category 2')\n",
    "elif(maxspeed>95 and maxspeed<113):\n",
    "    print('Category 3')\n",
    "elif(maxspeed>112 and maxspeed<137):\n",
    "    print('Category 4')\n",
    "elif(maxspeed>136):\n",
    "    print('Category 5')\n",
    "else:\n",
    "    print('Windspeed is too low to categorize')"
   ]
  }
 ],
 "metadata": {
  "kernelspec": {
   "display_name": "Python 3",
   "language": "python",
   "name": "python3"
  },
  "language_info": {
   "codemirror_mode": {
    "name": "ipython",
    "version": 3
   },
   "file_extension": ".py",
   "mimetype": "text/x-python",
   "name": "python",
   "nbconvert_exporter": "python",
   "pygments_lexer": "ipython3",
   "version": "3.6.0"
  }
 },
 "nbformat": 4,
 "nbformat_minor": 2
}
