{
 "cells": [
  {
   "cell_type": "markdown",
   "metadata": {},
   "source": [
    "Download the xlsx file from the FutureLearn course page,make sure it's in the same folder as this notebook, then write code in the cell below to import pandas and use the read_excel function to read in the data and store it in a variable. "
   ]
  },
  {
   "cell_type": "code",
   "execution_count": null,
   "metadata": {
    "collapsed": true
   },
   "outputs": [],
   "source": []
  },
  {
   "cell_type": "code",
   "execution_count": null,
   "metadata": {
    "collapsed": false
   },
   "outputs": [],
   "source": [
    "import pandas as pd                   #Import the necesary library\n",
    "irmadata=pd.read_excel('Irma.xlsx')   # Assign a variable to the data and read it\n"
   ]
  },
  {
   "cell_type": "markdown",
   "metadata": {},
   "source": [
    "### Read the first five lines of the excel sheet"
   ]
  },
  {
   "cell_type": "code",
   "execution_count": null,
   "metadata": {
    "collapsed": false
   },
   "outputs": [],
   "source": [
    "irmadata.head()                       # Read the fisrt five lines of tha data"
   ]
  },
  {
   "cell_type": "markdown",
   "metadata": {},
   "source": [
    "### Read the latitude of the data in the sixth row"
   ]
  },
  {
   "cell_type": "code",
   "execution_count": null,
   "metadata": {
    "collapsed": false
   },
   "outputs": [],
   "source": [
    "irmadata.loc[5]['Latitude']"
   ]
  },
  {
   "cell_type": "markdown",
   "metadata": {},
   "source": [
    "# Read only  data between row 5 and 10"
   ]
  },
  {
   "cell_type": "code",
   "execution_count": 18,
   "metadata": {
    "collapsed": false
   },
   "outputs": [
    {
     "data": {
      "text/html": [
       "<div>\n",
       "<table border=\"1\" class=\"dataframe\">\n",
       "  <thead>\n",
       "    <tr style=\"text-align: right;\">\n",
       "      <th></th>\n",
       "      <th>Date (YYYYMMDD)</th>\n",
       "      <th>Time (HHMM)</th>\n",
       "      <th>Hour</th>\n",
       "      <th>Latitude</th>\n",
       "      <th>Longitude</th>\n",
       "      <th>Maximum sustained wind (in knots)</th>\n",
       "      <th>Maximum sustained wind (in m/s)</th>\n",
       "      <th>Minimum Pressure (in millibars)</th>\n",
       "    </tr>\n",
       "  </thead>\n",
       "  <tbody>\n",
       "    <tr>\n",
       "      <th>5</th>\n",
       "      <td>20170831</td>\n",
       "      <td>600</td>\n",
       "      <td>40</td>\n",
       "      <td>16.4</td>\n",
       "      <td>-32.5</td>\n",
       "      <td>65</td>\n",
       "      <td>25.250363</td>\n",
       "      <td>994</td>\n",
       "    </tr>\n",
       "    <tr>\n",
       "      <th>6</th>\n",
       "      <td>20170831</td>\n",
       "      <td>1200</td>\n",
       "      <td>48</td>\n",
       "      <td>16.7</td>\n",
       "      <td>-33.4</td>\n",
       "      <td>80</td>\n",
       "      <td>31.077370</td>\n",
       "      <td>983</td>\n",
       "    </tr>\n",
       "    <tr>\n",
       "      <th>7</th>\n",
       "      <td>20170831</td>\n",
       "      <td>1800</td>\n",
       "      <td>56</td>\n",
       "      <td>17.1</td>\n",
       "      <td>-34.2</td>\n",
       "      <td>95</td>\n",
       "      <td>36.904376</td>\n",
       "      <td>970</td>\n",
       "    </tr>\n",
       "    <tr>\n",
       "      <th>8</th>\n",
       "      <td>20170901</td>\n",
       "      <td>0</td>\n",
       "      <td>64</td>\n",
       "      <td>17.5</td>\n",
       "      <td>-35.1</td>\n",
       "      <td>100</td>\n",
       "      <td>38.846712</td>\n",
       "      <td>967</td>\n",
       "    </tr>\n",
       "    <tr>\n",
       "      <th>9</th>\n",
       "      <td>20170901</td>\n",
       "      <td>600</td>\n",
       "      <td>72</td>\n",
       "      <td>17.9</td>\n",
       "      <td>-36.1</td>\n",
       "      <td>100</td>\n",
       "      <td>38.846712</td>\n",
       "      <td>967</td>\n",
       "    </tr>\n",
       "    <tr>\n",
       "      <th>10</th>\n",
       "      <td>20170901</td>\n",
       "      <td>1200</td>\n",
       "      <td>80</td>\n",
       "      <td>18.4</td>\n",
       "      <td>-37.3</td>\n",
       "      <td>100</td>\n",
       "      <td>38.846712</td>\n",
       "      <td>967</td>\n",
       "    </tr>\n",
       "  </tbody>\n",
       "</table>\n",
       "</div>"
      ],
      "text/plain": [
       "    Date (YYYYMMDD)  Time (HHMM)  Hour  Latitude  Longitude  \\\n",
       "5          20170831          600    40      16.4      -32.5   \n",
       "6          20170831         1200    48      16.7      -33.4   \n",
       "7          20170831         1800    56      17.1      -34.2   \n",
       "8          20170901            0    64      17.5      -35.1   \n",
       "9          20170901          600    72      17.9      -36.1   \n",
       "10         20170901         1200    80      18.4      -37.3   \n",
       "\n",
       "    Maximum sustained wind (in knots)  Maximum sustained wind (in m/s)  \\\n",
       "5                                  65                        25.250363   \n",
       "6                                  80                        31.077370   \n",
       "7                                  95                        36.904376   \n",
       "8                                 100                        38.846712   \n",
       "9                                 100                        38.846712   \n",
       "10                                100                        38.846712   \n",
       "\n",
       "    Minimum Pressure (in millibars)  \n",
       "5                               994  \n",
       "6                               983  \n",
       "7                               970  \n",
       "8                               967  \n",
       "9                               967  \n",
       "10                              967  "
      ]
     },
     "execution_count": 18,
     "metadata": {},
     "output_type": "execute_result"
    }
   ],
   "source": [
    "irmadata.loc[5:10]"
   ]
  },
  {
   "cell_type": "markdown",
   "metadata": {},
   "source": [
    "### Calculating the maximum latitude"
   ]
  },
  {
   "cell_type": "markdown",
   "metadata": {},
   "source": [
    "In the cell below use the max function to get the maximum latitude from the dataframe you created above. Print the maximum out. "
   ]
  },
  {
   "cell_type": "code",
   "execution_count": null,
   "metadata": {
    "collapsed": false
   },
   "outputs": [],
   "source": [
    "irmadata['Latitude'].max()"
   ]
  }
 ],
 "metadata": {
  "kernelspec": {
   "display_name": "Python 3",
   "language": "python",
   "name": "python3"
  },
  "language_info": {
   "codemirror_mode": {
    "name": "ipython",
    "version": 3
   },
   "file_extension": ".py",
   "mimetype": "text/x-python",
   "name": "python",
   "nbconvert_exporter": "python",
   "pygments_lexer": "ipython3",
   "version": "3.6.0"
  }
 },
 "nbformat": 4,
 "nbformat_minor": 2
}
